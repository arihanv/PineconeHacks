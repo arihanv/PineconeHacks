{
 "cells": [
  {
   "attachments": {},
   "cell_type": "markdown",
   "metadata": {},
   "source": [
    "[![Open In Colab](https://colab.research.google.com/assets/colab-badge.svg)](https://colab.research.google.com/github/pinecone-io/examples/blob/master/generation/langchain/handbook/05-langchain-retrieval-augmentation.ipynb) [![Open nbviewer](https://raw.githubusercontent.com/pinecone-io/examples/master/assets/nbviewer-shield.svg)](https://nbviewer.org/github/pinecone-io/examples/blob/master/generation/langchain/handbook/05-langchain-retrieval-augmentation.ipynb)"
   ]
  },
  {
   "attachments": {},
   "cell_type": "markdown",
   "metadata": {},
   "source": [
    "#### [LangChain Handbook](https://pinecone.io/learn/langchain)\n",
    "\n",
    "# Retrieval Augmentation\n",
    "\n",
    "**L**arge **L**anguage **M**odels (LLMs) have a data freshness problem. The most powerful LLMs in the world, like GPT-4, have no idea about recent world events.\n",
    "\n",
    "The world of LLMs is frozen in time. Their world exists as a static snapshot of the world as it was within their training data.\n",
    "\n",
    "A solution to this problem is *retrieval augmentation*. The idea behind this is that we retrieve relevant information from an external knowledge base and give that information to our LLM. In this notebook we will learn how to do that.\n",
    "\n",
    "[![Open fast notebook](https://raw.githubusercontent.com/pinecone-io/examples/master/assets/fast-link.svg)](https://colab.research.google.com/github/pinecone-io/examples/blob/master/generation/langchain/handbook/05-langchain-retrieval-augmentation-fast.ipynb)\n",
    "\n",
    "To begin, we must install the prerequisite libraries that we will be using in this notebook. If we install all libraries we will find a conflict in the Hugging Face `datasets` library so we must install everything in a specific order like so:"
   ]
  },
  {
   "cell_type": "code",
   "execution_count": 1,
   "metadata": {
    "ExecuteTime": {
     "start_time": "2023-06-13T20:56:49.232435Z",
     "end_time": "2023-06-13T20:58:13.055846Z"
    }
   },
   "outputs": [
    {
     "name": "stdout",
     "output_type": "stream",
     "text": [
      "\u001B[31mERROR: pip's dependency resolver does not currently take into account all the packages that are installed. This behaviour is the source of the following dependency conflicts.\r\n",
      "google-cloud-bigquery 2.34.4 requires protobuf<4.0.0dev,>=3.12.0, but you have protobuf 4.23.2 which is incompatible.\r\n",
      "streamlit 1.11.1 requires protobuf<4,>=3.12, but you have protobuf 4.23.2 which is incompatible.\r\n",
      "tensorboard 2.10.1 requires protobuf<3.20,>=3.9.2, but you have protobuf 4.23.2 which is incompatible.\r\n",
      "tensorflow 2.10.0 requires protobuf<3.20,>=3.9.2, but you have protobuf 4.23.2 which is incompatible.\r\n",
      "tensorflow-metadata 1.10.0 requires protobuf<4,>=3.13, but you have protobuf 4.23.2 which is incompatible.\u001B[0m\u001B[31m\r\n",
      "\u001B[0m"
     ]
    }
   ],
   "source": [
    "!pip install -qU \\\n",
    "    apache_beam \\\n",
    "    mwparserfromhell"
   ]
  },
  {
   "attachments": {},
   "cell_type": "markdown",
   "metadata": {},
   "source": [
    "## Red google docs from data folder"
   ]
  },
  {
   "cell_type": "code",
   "execution_count": 9,
   "outputs": [
    {
     "name": "stdout",
     "output_type": "stream",
     "text": [
      "dis_advantage_real_state.docx fair_real_state.docx\r\n"
     ]
    }
   ],
   "source": [
    "!ls ../data"
   ],
   "metadata": {
    "collapsed": false,
    "ExecuteTime": {
     "start_time": "2023-06-13T21:01:39.710175Z",
     "end_time": "2023-06-13T21:01:39.893973Z"
    }
   }
  },
  {
   "cell_type": "code",
   "execution_count": 12,
   "outputs": [
    {
     "name": "stdout",
     "output_type": "stream",
     "text": [
      "Collecting docx\r\n",
      "  Downloading docx-0.2.4.tar.gz (54 kB)\r\n",
      "\u001B[2K     \u001B[90m━━━━━━━━━━━━━━━━━━━━━━━━━━━━━━━━━━━━━━━━\u001B[0m \u001B[32m54.9/54.9 kB\u001B[0m \u001B[31m1.8 MB/s\u001B[0m eta \u001B[36m0:00:00\u001B[0m\r\n",
      "\u001B[?25h  Preparing metadata (setup.py) ... \u001B[?25ldone\r\n",
      "\u001B[?25hRequirement already satisfied: lxml in /Users/federicomoreno/.pyenv/versions/3.10.6/envs/fede_310/lib/python3.10/site-packages (from docx) (4.9.1)\r\n",
      "Requirement already satisfied: Pillow>=2.0 in /Users/federicomoreno/.pyenv/versions/3.10.6/envs/fede_310/lib/python3.10/site-packages (from docx) (9.1.1)\r\n",
      "Building wheels for collected packages: docx\r\n",
      "  Building wheel for docx (setup.py) ... \u001B[?25ldone\r\n",
      "\u001B[?25h  Created wheel for docx: filename=docx-0.2.4-py3-none-any.whl size=53897 sha256=26d8adbf5e4ac29c30d5217d4ef8546503ad154db63d5a0932579b5604f49ce1\r\n",
      "  Stored in directory: /Users/federicomoreno/Library/Caches/pip/wheels/81/f5/1d/e09ba2c1907a43a4146d1189ae4733ca1a3bfe27ee39507767\r\n",
      "Successfully built docx\r\n",
      "Installing collected packages: docx\r\n",
      "Successfully installed docx-0.2.4\r\n"
     ]
    }
   ],
   "source": [
    "!pip install docx"
   ],
   "metadata": {
    "collapsed": false,
    "ExecuteTime": {
     "start_time": "2023-06-13T21:03:15.640875Z",
     "end_time": "2023-06-13T21:03:26.318041Z"
    }
   }
  },
  {
   "cell_type": "code",
   "execution_count": 1,
   "metadata": {
    "colab": {
     "base_uri": "https://localhost:8080/"
    },
    "id": "DiRWzKh0mMGv",
    "outputId": "5bfa8cb2-5c9f-40ba-f832-edc51dafbef4",
    "ExecuteTime": {
     "start_time": "2023-06-13T21:05:52.608434Z",
     "end_time": "2023-06-13T21:05:52.753297Z"
    }
   },
   "outputs": [],
   "source": [
    "docx_file = '../data/dis_advantage_real_state.docx'\n",
    "#read docx file\n",
    "from docx import Document\n",
    "doc = Document(docx_file)\n"
   ]
  },
  {
   "cell_type": "code",
   "execution_count": 6,
   "outputs": [],
   "source": [
    "#append all paragraphs to a list\n",
    "data = []\n",
    "for para in doc.paragraphs:\n",
    "    data.append(para.text)\n"
   ],
   "metadata": {
    "collapsed": false,
    "ExecuteTime": {
     "start_time": "2023-06-13T21:06:39.576768Z",
     "end_time": "2023-06-13T21:06:39.591256Z"
    }
   }
  },
  {
   "cell_type": "code",
   "execution_count": 7,
   "metadata": {
    "colab": {
     "base_uri": "https://localhost:8080/"
    },
    "id": "LarkabZgtbhQ",
    "outputId": "30a76a4d-c40c-4a9b-fc58-822c499dbbc3",
    "ExecuteTime": {
     "start_time": "2023-06-13T21:06:42.124504Z",
     "end_time": "2023-06-13T21:06:42.138723Z"
    }
   },
   "outputs": [
    {
     "data": {
      "text/plain": "['OFERTA DE COMPRA AD REFERENDUM',\n '',\n 'RECIBIMOS del Sr/a ___________________________, DNI N° _____________________, con domicilio en _______________________________, CABA, Celular: ____________________ mail __________________________la cantidad de U$S ___________.- (Dólares _________________________________________) en efectivo en concepto de OFERTA DE COMPRA “Ad referendum” de la aprobación del DESTINATARIO y del resultado de los informes de inhibición y dominio, por la adquisición de UN INMUEBLE ubicado en  _________________________, piso __° __”, CABA  sirviendo el presente de recibo por dicha suma, de acuerdo con las siguientes condiciones: ',\n 'A) PRECIO: El precio propuesto para la presente operación asciende a la cantidad de USD _________________.- (dólares estadounidenses billetes ______________________________)  pagaderos con la firma del boleto con posesión de la unidad en dinero en efectivo y en billetes de la referida moneda. El comprador declara que posee en su patrimonio y de libre disponibilidad la cantidad de dólares estadounidenses necesarios para abonar parte del precio ofertado, razón por la cual se obliga a efectuar los pagos en dicha moneda (Art. 868 CCC), renunciando libre y voluntariamente a invocar el derecho de conversión a moneda de curso legal (art. 765 del CCC) como así también a la teoría de la imprevisión o cualquier otra que tienda a desnaturalizar el pago en la moneda pactada. El pago deberá ser realizado en billetes denominados “cara grande”, sin manchas ni sellos y que no sean de baja denominación. ',\n 'B) PLAZOS: 1). El plazo de aceptación de la oferta es de __ días corridos, transcurrido ese plazo se procederá a aceptar la reserva o bien se devolverá el monto recibido sin ningún tipo de indemnización. 2) La escritura traslativa de dominio se realizará en el momento que prevea el escribano interviniente designado por la parte Vendedora, quien notificará a las Partes día y horario de firma. Para el caso de que la parte VENDEDORA realizara una contra oferta, el OFERENTE se compromete a brindar una respuesta dentro de las 48 (cuarenta y ocho) horas, entendiéndose su silencio como negativa, quedando a partir del cumplimiento del plazo la suma íntegra recibida como reserva a su disposición, y la propiedad liberada para continuar siendo comercializada no correspondiéndole indemnización alguna a las partes. En caso de silencio del DESTINATARIO al cumplirse el plazo de la oferta, se considerará que la misma no fue aceptada. ',\n 'C) CONDICIONES GENERALES: ',\n '1) Los honorarios del escribano interviniente, inscripción del reglamento de copropiedad, gastos, impuestos e impuesto de sellos si correspondiere de la presente operación serán soportados por la parte Compradora. El Impuesto a la Transmisión de Inmuebles (I.T.I.) o Impuesto a las Ganancias según corresponda, será soportado por la Vendedora.',\n '2) Si surgiera alguna medida cautelar que pese sobre alguno de los inmuebles (embargos, anotación de litis, etc.) o sobre sus titulares de dominio (inhibiciones), tal circunstancia será comunicada a la otra parte y en caso que ambas decidieran seguir adelante con la compraventa, su saneamiento será a cargo exclusivo de la parte sobre la cual pese la medida, a fin de lograr la escritura dentro de los plazos fijados o a fijarse ante tal circunstancia. Si no se siguiera adelante con la operación por inhibiciones, embargos u otro tipo de anotaciones, se devolverá el dinero dejado como respaldo de la oferta en forma previa a la fecha prevista para la escrituración, sin penalidad para ninguna de las partes.',\n '3) Los honorarios del martillero interviniente, Juan Carlos Montero (Martillero Público - CUCICBA 7078), serán abonados por el comprador al suscribirse la el Boleto de Compraventa con posesión de la unidad, los que ascienden a un 4% del precio establecido..-',\n '4) Una vez aceptada la presente por la parte vendedora en todas o en cualquiera de sus copias, y verificado que no surjan impedimentos de los informes de inhibición y dominio, esta oferta tomará el carácter de SEÑA, dejándose expresamente establecido que si el destinatario-vendedor no se presentara a la firma del boleto de compra venta o escrituración y/o desistiera de la operación por cualquier causa o motivo, deberá reintegrar el importe de la presente oferta al proponente-comprador con más otro tanto igual en concepto de indemnización, esto en virtud de los Art. 1059 del Código Civil y Comercial. Si no se presentara el oferente, perderá el dinero entregado en este acto.',\n '5) El valor en este acto entregado como así también el de la adenda de refuerzo si correspondiera, quedarán en custodia de la inmobiliaria interviniente como depositario del destinatario, hasta el momento de realización del contrato de compraventa respectivo y será afectado al pago del precio al vendedor, al celebrarse dicho acto.',\n '',\n '6) A todos los efectos legales, las partes firmantes constituyen domicilios en los arriba enunciados, resultando válidas todas las notificaciones que se cursen a dichos domicilios hasta tanto no se notifique fehacientemente su modificación, y se someten ante cualquier diferendo que pudiera surgir del presente, o de sus documentos conexos o adendas a la jurisdicción de la Justicia Nacional en lo Civil en la Ciudad Autónoma de Buenos Aires.',\n 'En prueba de amplia conformidad, se firman 02 (dos) ejemplares de un mismo tenor y a un solo efecto, en la Ciudad Autónoma de Buenos Aires, a los __ días del mes de Mayo de 2023.-',\n '\\t',\n '',\n '_________________________\\t\\t\\t\\t_________________________',\n '                    RESERVANTE\\t\\t\\t\\t\\t\\tINMOBILIARIA\\n',\n '',\n '',\n '',\n '',\n '',\n '',\n '',\n '',\n '',\n '',\n '',\n '',\n '',\n '',\n '',\n '',\n '',\n '',\n '',\n 'NOTIFICACIÓN A LA PARTE DESTINATARIA/VENDEDORA:',\n 'Por la presente tomamos conocimiento de la oferta de compra arriba expuesta, aceptándola/rechazándola en todos sus términos y dándole a la suma entregada en tal concepto el carácter de SEÑA, comprometiéndonos a suscribir los instrumentos que en la misma se pactan dentro de los plazos fijados.',\n 'Buenos Aires, ______ de Mayo de 2023.',\n '',\n '\\t\\t\\t\\t\\t\\t_____________________________',\n '    \\t\\t\\t\\t\\t     PROPIETARIO',\n '',\n '',\n 'NOTIFICACION AL PROPONENTE/COMPRADOR:',\n 'El día ____/_____/_____ me notifico de la (aceptación/rechazo) de la presente reserva.']"
     },
     "execution_count": 7,
     "metadata": {},
     "output_type": "execute_result"
    }
   ],
   "source": [
    "data"
   ]
  },
  {
   "attachments": {},
   "cell_type": "markdown",
   "metadata": {},
   "source": [
    "Now we install the remaining libraries:"
   ]
  },
  {
   "cell_type": "code",
   "execution_count": 8,
   "metadata": {
    "id": "0_4wHAWtmAvJ",
    "ExecuteTime": {
     "start_time": "2023-06-13T21:06:56.534440Z",
     "end_time": "2023-06-13T21:07:03.885851Z"
    }
   },
   "outputs": [],
   "source": [
    "!pip install -qU \\\n",
    "  langchain==0.0.162 \\\n",
    "  openai==0.27.7 \\\n",
    "  tiktoken==0.4.0 \\\n",
    "  \"pinecone-client[grpc]\"==2.2.1"
   ]
  },
  {
   "attachments": {},
   "cell_type": "markdown",
   "metadata": {
    "id": "OPpcO-TwuQwD"
   },
   "source": [
    "Every record contains *a lot* of text. Our first task is therefore to identify a good preprocessing methodology for chunking these articles into more \"concise\" chunks to later be embedding and stored in our Pinecone vector database.\n",
    "\n",
    "For this we use LangChain's `RecursiveCharacterTextSplitter` to split our text into chunks of a specified max length."
   ]
  },
  {
   "cell_type": "code",
   "execution_count": 9,
   "metadata": {
    "ExecuteTime": {
     "start_time": "2023-06-13T21:07:14.979185Z",
     "end_time": "2023-06-13T21:07:18.889375Z"
    }
   },
   "outputs": [
    {
     "data": {
      "text/plain": "<Encoding 'cl100k_base'>"
     },
     "execution_count": 9,
     "metadata": {},
     "output_type": "execute_result"
    }
   ],
   "source": [
    "import tiktoken\n",
    "\n",
    "tiktoken.encoding_for_model('gpt-3.5-turbo')"
   ]
  },
  {
   "cell_type": "code",
   "execution_count": 10,
   "metadata": {
    "id": "a3ChSxlcwX8n",
    "ExecuteTime": {
     "start_time": "2023-06-13T21:07:30.891963Z",
     "end_time": "2023-06-13T21:07:30.903907Z"
    }
   },
   "outputs": [
    {
     "data": {
      "text/plain": "26"
     },
     "execution_count": 10,
     "metadata": {},
     "output_type": "execute_result"
    }
   ],
   "source": [
    "import tiktoken\n",
    "\n",
    "tokenizer = tiktoken.get_encoding('cl100k_base')\n",
    "\n",
    "# create the length function\n",
    "def tiktoken_len(text):\n",
    "    tokens = tokenizer.encode(\n",
    "        text,\n",
    "        disallowed_special=()\n",
    "    )\n",
    "    return len(tokens)\n",
    "\n",
    "tiktoken_len(\"hello I am a chunk of text and using the tiktoken_len function \"\n",
    "             \"we can find the length of this chunk of text in tokens\")"
   ]
  },
  {
   "cell_type": "code",
   "execution_count": 11,
   "metadata": {
    "id": "58J-y6GHtvQP",
    "ExecuteTime": {
     "start_time": "2023-06-13T21:07:34.891899Z",
     "end_time": "2023-06-13T21:07:38.116520Z"
    }
   },
   "outputs": [],
   "source": [
    "from langchain.text_splitter import RecursiveCharacterTextSplitter\n",
    "\n",
    "text_splitter = RecursiveCharacterTextSplitter(\n",
    "    chunk_size=400,\n",
    "    chunk_overlap=20,\n",
    "    length_function=tiktoken_len,\n",
    "    separators=[\"\\n\\n\", \"\\n\", \" \", \"\"]\n",
    ")"
   ]
  },
  {
   "cell_type": "code",
   "execution_count": 12,
   "metadata": {
    "colab": {
     "base_uri": "https://localhost:8080/"
    },
    "id": "W8KGqv-rzEgH",
    "outputId": "b8a954b2-038c-4e00-8081-7f1c3934afb5",
    "ExecuteTime": {
     "start_time": "2023-06-13T21:07:41.955312Z",
     "end_time": "2023-06-13T21:07:42.063731Z"
    }
   },
   "outputs": [
    {
     "data": {
      "text/plain": "['OFERTA DE COMPRA AD REFERENDUMRECIBIMOS del Sr/a ___________________________, DNI N° _____________________, con domicilio en _______________________________, CABA, Celular: ____________________ mail __________________________la cantidad de U$S ___________.- (Dólares _________________________________________) en efectivo en concepto de OFERTA DE COMPRA “Ad referendum” de la aprobación del DESTINATARIO y del resultado de los informes de inhibición y dominio, por la adquisición de UN INMUEBLE ubicado en  _________________________, piso __° __”, CABA  sirviendo el presente de recibo por dicha suma, de acuerdo con las siguientes condiciones: A) PRECIO: El precio propuesto para la presente operación asciende a la cantidad de USD _________________.- (dólares estadounidenses billetes ______________________________)  pagaderos con la firma del boleto con posesión de la unidad en dinero en efectivo y en billetes de la referida moneda. El comprador declara que posee en su patrimonio y de libre disponibilidad la cantidad de dólares estadounidenses necesarios para abonar parte del precio ofertado, razón por la cual se obliga a efectuar los pagos en dicha moneda (Art. 868 CCC), renunciando libre y voluntariamente a invocar el derecho de conversión a moneda de curso legal (art. 765 del CCC) como así también a la teoría de la imprevisión o cualquier otra que tienda a desnaturalizar el pago en la moneda pactada. El pago deberá ser realizado en billetes denominados “cara grande”, sin manchas ni sellos y que no sean de baja denominación.',\n 'B) PLAZOS: 1). El plazo de aceptación de la oferta es de __ días corridos, transcurrido ese plazo se procederá a aceptar la reserva o bien se devolverá el monto recibido sin ningún tipo de indemnización. 2) La escritura traslativa de dominio se realizará en el momento que prevea el escribano interviniente designado por la parte Vendedora, quien notificará a las Partes día y horario de firma. Para el caso de que la parte VENDEDORA realizara una contra oferta, el OFERENTE se compromete a brindar una respuesta dentro de las 48 (cuarenta y ocho) horas, entendiéndose su silencio como negativa, quedando a partir del cumplimiento del plazo la suma íntegra recibida como reserva a su disposición, y la propiedad liberada para continuar siendo comercializada no correspondiéndole indemnización alguna a las partes. En caso de silencio del DESTINATARIO al cumplirse el plazo de la oferta, se considerará que la misma no fue aceptada. C) CONDICIONES GENERALES: 1) Los honorarios del escribano interviniente, inscripción del reglamento de copropiedad, gastos, impuestos e impuesto de sellos si correspondiere de la presente operación serán soportados por la parte Compradora. El Impuesto a la Transmisión de Inmuebles (I.T.I.) o Impuesto a las Ganancias según corresponda, será soportado por la Vendedora.',\n '2) Si surgiera alguna medida cautelar que pese sobre alguno de los inmuebles (embargos, anotación de litis, etc.) o sobre sus titulares de dominio (inhibiciones), tal circunstancia será comunicada a la otra parte y en caso que ambas decidieran seguir adelante con la compraventa, su saneamiento será a cargo exclusivo de la parte sobre la cual pese la medida, a fin de lograr la escritura dentro de los plazos fijados o a fijarse ante tal circunstancia. Si no se siguiera adelante con la operación por inhibiciones, embargos u otro tipo de anotaciones, se devolverá el dinero dejado como respaldo de la oferta en forma previa a la fecha prevista para la escrituración, sin penalidad para ninguna de las partes.3) Los honorarios del martillero interviniente, Juan Carlos Montero (Martillero Público - CUCICBA 7078), serán abonados por el comprador al suscribirse la el Boleto de Compraventa con posesión de la unidad, los que ascienden a un 4% del precio establecido..-',\n '4) Una vez aceptada la presente por la parte vendedora en todas o en cualquiera de sus copias, y verificado que no surjan impedimentos de los informes de inhibición y dominio, esta oferta tomará el carácter de SEÑA, dejándose expresamente establecido que si el destinatario-vendedor no se presentara a la firma del boleto de compra venta o escrituración y/o desistiera de la operación por cualquier causa o motivo, deberá reintegrar el importe de la presente oferta al proponente-comprador con más otro tanto igual en concepto de indemnización, esto en virtud de los Art. 1059 del Código Civil y Comercial. Si no se presentara el oferente, perderá el dinero entregado en este acto.5) El valor en este acto entregado como así también el de la adenda de refuerzo si correspondiera, quedarán en custodia de la inmobiliaria interviniente como depositario del destinatario, hasta el momento de realización del contrato de compraventa respectivo y será afectado al pago del precio al vendedor, al celebrarse dicho acto.6) A todos los efectos legales, las partes firmantes constituyen domicilios en los arriba enunciados, resultando válidas todas las notificaciones que se cursen a dichos domicilios hasta tanto no se notifique fehacientemente su modificación, y se someten ante cualquier diferendo que pudiera surgir del presente, o de sus documentos conexos o adendas a la jurisdicción de la Justicia Nacional en lo Civil en la Ciudad Autónoma de Buenos Aires.',\n 'En prueba de amplia conformidad, se firman 02 (dos) ejemplares de un mismo tenor y a un solo efecto, en la Ciudad Autónoma de Buenos Aires, a los __ días del mes de Mayo de 2023.-\\t_________________________\\t\\t\\t\\t_________________________                    RESERVANTE\\t\\t\\t\\t\\t\\tINMOBILIARIA\\nNOTIFICACIÓN A LA PARTE DESTINATARIA/VENDEDORA:Por la presente tomamos conocimiento de la oferta de compra arriba expuesta, aceptándola/rechazándola en todos sus términos y dándole a la suma entregada en tal concepto el carácter de SEÑA, comprometiéndonos a suscribir los instrumentos que en la misma se pactan dentro de los plazos fijados.Buenos Aires, ______ de Mayo de 2023.\\t\\t\\t\\t\\t\\t_____________________________    \\t\\t\\t\\t\\t     PROPIETARIONOTIFICACION AL PROPONENTE/COMPRADOR:El día ____/_____/_____ me notifico de la (aceptación/rechazo) de la presente reserva.']"
     },
     "execution_count": 12,
     "metadata": {},
     "output_type": "execute_result"
    }
   ],
   "source": [
    "chunks = text_splitter.split_text(data)\n",
    "chunks"
   ]
  },
  {
   "cell_type": "code",
   "execution_count": 13,
   "metadata": {
    "colab": {
     "base_uri": "https://localhost:8080/"
    },
    "id": "K9hdjy22zVuJ",
    "outputId": "0989fc50-6b31-4109-9a9f-a3445d607fcd",
    "ExecuteTime": {
     "start_time": "2023-06-13T21:07:47.726716Z",
     "end_time": "2023-06-13T21:07:47.746803Z"
    }
   },
   "outputs": [
    {
     "data": {
      "text/plain": "(390, 352, 269)"
     },
     "execution_count": 13,
     "metadata": {},
     "output_type": "execute_result"
    }
   ],
   "source": [
    "tiktoken_len(chunks[0]), tiktoken_len(chunks[1]), tiktoken_len(chunks[2])"
   ]
  },
  {
   "attachments": {},
   "cell_type": "markdown",
   "metadata": {
    "id": "SvApQNma0K8u"
   },
   "source": [
    "Using the `text_splitter` we get much better sized chunks of text. We'll use this functionality during the indexing process later. Now let's take a look at embedding.\n",
    "\n",
    "## Creating Embeddings\n",
    "\n",
    "Building embeddings using LangChain's OpenAI embedding support is fairly straightforward. We first need to add our [OpenAI api key]() by running the next cell:"
   ]
  },
  {
   "cell_type": "code",
   "execution_count": 14,
   "metadata": {
    "colab": {
     "base_uri": "https://localhost:8080/"
    },
    "id": "dphi6CC33p62",
    "outputId": "b8a95521-bd7f-476e-c643-c712ee8dcc43",
    "ExecuteTime": {
     "start_time": "2023-06-13T21:09:36.319151Z",
     "end_time": "2023-06-13T21:09:36.363769Z"
    }
   },
   "outputs": [],
   "source": [
    "import os\n",
    "#load from json .creds/PINECONE_API\n",
    "import json\n",
    "with open('../.creds/PINECONE_API') as f:\n",
    "    creds = json.load(f)\n",
    "    PINECONE_API_KEY = creds['PINECONE_API_KEY']\n",
    "    PINECONE_ENVIRONMENT = creds['PINECONE_ENVIRONMENT']\n",
    "    OPENAI_API_KEY = creds['OPENAI_API_KEY']"
   ]
  },
  {
   "attachments": {},
   "cell_type": "markdown",
   "metadata": {
    "id": "49hoj_ZS3wAr"
   },
   "source": [
    "*(Note that OpenAI is a paid service and so running the remainder of this notebook may incur some small cost)*\n",
    "\n",
    "After initializing the API key we can initialize our `text-embedding-ada-002` embedding model like so:"
   ]
  },
  {
   "cell_type": "code",
   "execution_count": 15,
   "metadata": {
    "id": "mBLIWLkLzyGi",
    "ExecuteTime": {
     "start_time": "2023-06-13T21:09:41.834383Z",
     "end_time": "2023-06-13T21:09:41.933957Z"
    }
   },
   "outputs": [],
   "source": [
    "from langchain.embeddings.openai import OpenAIEmbeddings\n",
    "\n",
    "model_name = 'text-embedding-ada-002'\n",
    "\n",
    "embed = OpenAIEmbeddings(\n",
    "    model=model_name,\n",
    "    openai_api_key=OPENAI_API_KEY\n",
    ")"
   ]
  },
  {
   "attachments": {},
   "cell_type": "markdown",
   "metadata": {
    "id": "SwbZGT-v4iMi"
   },
   "source": [
    "Now we embed some text like so:"
   ]
  },
  {
   "attachments": {},
   "cell_type": "markdown",
   "metadata": {
    "id": "QPUmWYSA43eC"
   },
   "source": [
    "From this we get *two* (aligning to our two chunks of text) 1536-dimensional embeddings.\n",
    "\n",
    "Now we move on to initializing our Pinecone vector database.\n",
    "\n",
    "## Vector Database\n",
    "\n",
    "To create our vector database we first need a [free API key from Pinecone](https://app.pinecone.io). Then we initialize like so:"
   ]
  },
  {
   "cell_type": "code",
   "execution_count": 16,
   "metadata": {
    "ExecuteTime": {
     "start_time": "2023-06-13T21:10:06.977151Z",
     "end_time": "2023-06-13T21:10:07.093038Z"
    }
   },
   "outputs": [],
   "source": [
    "index_name = 'legal-docs'"
   ]
  },
  {
   "cell_type": "code",
   "execution_count": 19,
   "outputs": [
    {
     "data": {
      "text/plain": "(47, 1536)"
     },
     "execution_count": 19,
     "metadata": {},
     "output_type": "execute_result"
    }
   ],
   "source": [
    "res = embed.embed_documents(data)\n",
    "len(res), len(res[0])"
   ],
   "metadata": {
    "collapsed": false,
    "ExecuteTime": {
     "start_time": "2023-06-13T21:12:12.024802Z",
     "end_time": "2023-06-13T21:12:28.121660Z"
    }
   }
  },
  {
   "cell_type": "code",
   "execution_count": 20,
   "metadata": {
    "colab": {
     "base_uri": "https://localhost:8080/"
    },
    "id": "9pT9C4nW4vwo",
    "outputId": "f4ae4545-6c50-4db5-8ce5-5e7e9840f512",
    "ExecuteTime": {
     "start_time": "2023-06-13T21:12:28.128318Z",
     "end_time": "2023-06-13T21:14:50.375671Z"
    }
   },
   "outputs": [],
   "source": [
    "import pinecone\n",
    "\n",
    "pinecone.init(\n",
    "    api_key=PINECONE_API_KEY,\n",
    "    environment=PINECONE_ENVIRONMENT\n",
    ")\n",
    "\n",
    "if index_name not in pinecone.list_indexes():\n",
    "    # we create a new index\n",
    "    pinecone.create_index(\n",
    "        name=index_name,\n",
    "        metric='cosine',\n",
    "        dimension=len(res[0])  # 1536 dim of text-embedding-ada-002\n",
    "    )"
   ]
  },
  {
   "attachments": {},
   "cell_type": "markdown",
   "metadata": {
    "id": "YgPUwd6REY6z"
   },
   "source": [
    "Then we connect to the new index:"
   ]
  },
  {
   "cell_type": "code",
   "execution_count": null,
   "metadata": {
    "colab": {
     "base_uri": "https://localhost:8080/"
    },
    "id": "RFydARw4EcoQ",
    "outputId": "d4f7c90b-1185-4fd5-8b01-baa4a9ad5c10"
   },
   "outputs": [],
   "source": [
    "index = pinecone.GRPCIndex(index_name)\n",
    "\n",
    "index.describe_index_stats()"
   ]
  },
  {
   "attachments": {},
   "cell_type": "markdown",
   "metadata": {
    "id": "0RqIF2mIDwFu"
   },
   "source": [
    "We should see that the new Pinecone index has a `total_vector_count` of `0`, as we haven't added any vectors yet.\n",
    "\n",
    "## Indexing\n",
    "\n",
    "We can perform the indexing task using the LangChain vector store object. But for now it is much faster to do it via the Pinecone python client directly. We will do this in batches of `100` or more."
   ]
  },
  {
   "cell_type": "markdown",
   "source": [
    "from tqdm.auto import tqdm\n",
    "from uuid import uuid4\n",
    "\n",
    "batch_limit = 100\n",
    "\n",
    "texts = []\n",
    "metadatas = []\n",
    "\n",
    "for i, record in enumerate(tqdm(data)):\n",
    "    # first get metadata fields for this record\n",
    "    metadata = {\n",
    "        'wiki-id': str(record['id']),\n",
    "        'source': record['url'],\n",
    "        'title': record['title']\n",
    "    }\n",
    "    # now we create chunks from the record text\n",
    "    record_texts = text_splitter.split_text(record['text'])\n",
    "    # create individual metadata dicts for each chunk\n",
    "    record_metadatas = [{\n",
    "        \"chunk\": j, \"text\": text, **metadata\n",
    "    } for j, text in enumerate(record_texts)]\n",
    "    # append these to current batches\n",
    "    texts.extend(record_texts)\n",
    "    metadatas.extend(record_metadatas)\n",
    "    # if we have reached the batch_limit we can add texts\n",
    "    if len(texts) >= batch_limit:\n",
    "        ids = [str(uuid4()) for _ in range(len(texts))]\n",
    "        embeds = embed.embed_documents(texts)\n",
    "        index.upsert(vectors=zip(ids, embeds, metadatas))\n",
    "        texts = []\n",
    "        metadatas = []\n",
    "\n",
    "if len(texts) > 0:\n",
    "    ids = [str(uuid4()) for _ in range(len(texts))]\n",
    "    embeds = embed.embed_documents(texts)\n",
    "    index.upsert(vectors=zip(ids, embeds, metadatas))"
   ],
   "metadata": {
    "collapsed": false
   }
  },
  {
   "attachments": {},
   "cell_type": "markdown",
   "metadata": {
    "id": "XaF3daSxyCwB"
   },
   "source": [
    "We've now indexed everything. We can check the number of vectors in our index like so:"
   ]
  },
  {
   "cell_type": "code",
   "execution_count": 16,
   "metadata": {
    "colab": {
     "base_uri": "https://localhost:8080/"
    },
    "id": "CaEBhsAM22M3",
    "outputId": "b647b1d1-809d-40d1-ff24-0772bc2506fc"
   },
   "outputs": [
    {
     "data": {
      "text/plain": [
       "{'dimension': 1536,\n",
       " 'index_fullness': 0.1,\n",
       " 'namespaces': {'': {'vector_count': 27437}},\n",
       " 'total_vector_count': 27437}"
      ]
     },
     "execution_count": 16,
     "metadata": {},
     "output_type": "execute_result"
    }
   ],
   "source": [
    "index.describe_index_stats()"
   ]
  },
  {
   "attachments": {},
   "cell_type": "markdown",
   "metadata": {
    "id": "-8P2PryCy8W3"
   },
   "source": [
    "## Creating a Vector Store and Querying\n",
    "\n",
    "Now that we've build our index we can switch back over to LangChain. We start by initializing a vector store using the same index we just built. We do that like so:"
   ]
  },
  {
   "cell_type": "code",
   "execution_count": 17,
   "metadata": {
    "id": "qMXlvXOAyJHy"
   },
   "outputs": [],
   "source": [
    "from langchain.vectorstores import Pinecone\n",
    "\n",
    "text_field = \"text\"\n",
    "\n",
    "# switch back to normal index for langchain\n",
    "index = pinecone.Index(index_name)\n",
    "\n",
    "vectorstore = Pinecone(\n",
    "    index, embed.embed_query, text_field\n",
    ")"
   ]
  },
  {
   "cell_type": "code",
   "execution_count": 18,
   "metadata": {
    "colab": {
     "base_uri": "https://localhost:8080/"
    },
    "id": "COT5s7hcyPiq",
    "outputId": "29dfe2c3-2cc7-473d-f702-ad5c4e1fa32c"
   },
   "outputs": [
    {
     "data": {
      "text/plain": [
       "[Document(page_content='Benito Amilcare Andrea Mussolini KSMOM GCTE (29 July 1883 – 28 April 1945) was an Italian politician and journalist. He was also the Prime Minister of Italy from 1922 until 1943. He was the leader of the National Fascist Party.\\n\\nBiography\\n\\nEarly life\\nBenito Mussolini was named after Benito Juarez, a Mexican opponent of the political power of the Roman Catholic Church, by his anticlerical (a person who opposes the political interference of the Roman Catholic Church in secular affairs) father. Mussolini\\'s father was a blacksmith. Before being involved in politics, Mussolini was a newspaper editor (where he learned all his propaganda skills) and elementary school teacher.\\n\\nAt first, Mussolini was a socialist, but when he wanted Italy to join the First World War, he was thrown out of the socialist party. He \\'invented\\' a new ideology, Fascism, much out of Nationalist\\xa0and Conservative views.\\n\\nRise to power and becoming dictator\\nIn 1922, he took power by having a large group of men, \"Black Shirts,\" march on Rome and threaten to take over the government. King Vittorio Emanuele III gave in, allowed him to form a government, and made him prime minister. In the following five years, he gained power, and in 1927 created the OVRA, his personal secret police force. Using the agency to arrest, scare, or murder people against his regime, Mussolini was dictator\\xa0of Italy by the end of 1927. Only the King and his own Fascist party could challenge his power.', lookup_str='', metadata={'chunk': 0.0, 'source': 'https://simple.wikipedia.org/wiki/Benito%20Mussolini', 'title': 'Benito Mussolini', 'wiki-id': '6754'}, lookup_index=0),\n",
       " Document(page_content='Fascism as practiced by Mussolini\\nMussolini\\'s form of Fascism, \"Italian Fascism\"- unlike Nazism, the racist ideology that Adolf Hitler followed- was different and less destructive than Hitler\\'s. Although a believer in the superiority of the Italian nation and national unity, Mussolini, unlike Hitler, is quoted \"Race? It is a feeling, not a reality. Nothing will ever make me believe that biologically pure races can be shown to exist today\".\\n\\nMussolini wanted Italy to become a new Roman Empire. In 1923, he attacked the island of Corfu, and in 1924, he occupied the city state of Fiume. In 1935, he attacked the African country Abyssinia (now called Ethiopia). His forces occupied it in 1936. Italy was thrown out of the League of Nations because of this aggression. In 1939, he occupied the country Albania. In 1936, Mussolini signed an alliance with Adolf Hitler, the dictator of Germany.\\n\\nFall from power and death\\nIn 1940, he sent Italy into the Second World War on the side of the Axis countries. Mussolini attacked Greece, but he failed to conquer it. In 1943, the Allies landed in Southern Italy. The Fascist party and King Vittorio Emanuel III deposed Mussolini and put him in jail, but he was set free by the Germans, who made him ruler of the Italian Social Republic puppet state which was in a small part of Central Italy. When the war was almost over, Mussolini tried to escape to Switzerland with his mistress, Clara Petacci, but they were both captured and shot by partisans. Mussolini\\'s dead body was hanged upside-down, together with his mistress and some of Mussolini\\'s helpers, on a pole at a gas station in the village of Millan, which is near the border  between Italy and Switzerland.', lookup_str='', metadata={'chunk': 1.0, 'source': 'https://simple.wikipedia.org/wiki/Benito%20Mussolini', 'title': 'Benito Mussolini', 'wiki-id': '6754'}, lookup_index=0),\n",
       " Document(page_content='Fascist Italy \\nIn 1922, a new Italian government started. It was ruled by Benito Mussolini, the leader of Fascism in Italy. He became head of government and dictator, calling himself \"Il Duce\" (which means \"leader\" in Italian). He became friends with German dictator Adolf Hitler. Germany, Japan, and Italy became the Axis Powers. In 1940, they entered World War II together against France, Great Britain, and later the Soviet Union. During the war, Italy controlled most of the Mediterranean Sea.\\n\\nOn July 25, 1943, Mussolini was removed by the Great Council of Fascism. On September 8, 1943, Badoglio said that the war as an ally of Germany was ended. Italy started fighting as an ally of France and the UK, but Italian soldiers did not know whom to shoot. In Northern Italy, a movement called Resistenza started to fight against the German invaders. On April 25, 1945, much of Italy became free, while Mussolini tried to make a small Northern Italian fascist state called the Republic of Salò. The fascist state failed and Mussolini tried to flee to Switzerland and escape to Francoist Spain, but he was captured by Italian partisans. On 28 April 1945 Mussolini was executed by a partisan.\\n\\nAfter World War Two \\n\\nThe state became a republic on June 2, 1946. For the first time, women were able to vote. Italian people ended the Savoia dynasty and adopted a republic government.\\n\\nIn February 1947, Italy signed a peace treaty with the Allies. They lost all the colonies and some territorial areas (Istria and parts of Dalmatia).\\n\\nSince then Italy has joined NATO and the European Community (as a founding member). It is one of the seven biggest industrial economies in the world.\\n\\nTransportation \\n\\nThe railway network in Italy totals . It is the 17th longest in the world. High speed trains include ETR-class trains which travel at .', lookup_str='', metadata={'chunk': 5.0, 'source': 'https://simple.wikipedia.org/wiki/Italy', 'title': 'Italy', 'wiki-id': '363'}, lookup_index=0)]"
      ]
     },
     "execution_count": 18,
     "metadata": {},
     "output_type": "execute_result"
    }
   ],
   "source": [
    "query = \"Cual es la condición del contrato?\"\n",
    "\n",
    "vectorstore.similarity_search(\n",
    "    query,  # our search query\n",
    "    k=3  # return 3 most relevant docs\n",
    ")"
   ]
  },
  {
   "attachments": {},
   "cell_type": "markdown",
   "metadata": {
    "id": "ZCvtmREd0pdo"
   },
   "source": [
    "All of these are good, relevant results. But what can we do with this? There are many tasks, one of the most interesting (and well supported by LangChain) is called _\"Generative Question-Answering\"_ or GQA.\n",
    "\n",
    "## Generative Question-Answering\n",
    "\n",
    "In GQA we take the query as a question that is to be answered by a LLM, but the LLM must answer the question based on the information it is seeing being returned from the `vectorstore`.\n",
    "\n",
    "To do this we initialize a `RetrievalQA` object like so:"
   ]
  },
  {
   "cell_type": "code",
   "execution_count": 19,
   "metadata": {
    "id": "moCvQR-p0Zsb"
   },
   "outputs": [],
   "source": [
    "from langchain.chat_models import ChatOpenAI\n",
    "from langchain.chains import RetrievalQA\n",
    "\n",
    "# completion llm\n",
    "llm = ChatOpenAI(\n",
    "    openai_api_key=OPENAI_API_KEY,\n",
    "    model_name='gpt-3.5-turbo',\n",
    "    temperature=0.0\n",
    ")\n",
    "\n",
    "qa = RetrievalQA.from_chain_type(\n",
    "    llm=llm,\n",
    "    chain_type=\"stuff\",\n",
    "    retriever=vectorstore.as_retriever()\n",
    ")"
   ]
  },
  {
   "cell_type": "code",
   "execution_count": 20,
   "metadata": {
    "colab": {
     "base_uri": "https://localhost:8080/",
     "height": 71
    },
    "id": "KS9sa19K3LkQ",
    "outputId": "e8bc7b0a-1e41-4efb-e383-549ea42ac525"
   },
   "outputs": [
    {
     "data": {
      "text/plain": [
       "'Benito Mussolini was an Italian politician and journalist who served as the Prime Minister of Italy from 1922 until 1943. He was the leader of the National Fascist Party and invented the ideology of Fascism. Mussolini was a dictator of Italy by the end of 1927, and his form of Fascism, \"Italian Fascism,\" was different and less destructive than Hitler\\'s Nazism. Mussolini wanted Italy to become a new Roman Empire and attacked several countries, including Abyssinia (now called Ethiopia) and Greece. He was removed from power in 1943 and was executed by Italian partisans in 1945.'"
      ]
     },
     "execution_count": 20,
     "metadata": {},
     "output_type": "execute_result"
    }
   ],
   "source": [
    "qa.run(query)"
   ]
  },
  {
   "attachments": {},
   "cell_type": "markdown",
   "metadata": {
    "id": "0qf5e3xf3ggq"
   },
   "source": [
    "We can also include the sources of information that the LLM is using to answer our question. We can do this using a slightly different version of `RetrievalQA` called `RetrievalQAWithSourcesChain`:"
   ]
  },
  {
   "cell_type": "code",
   "execution_count": 21,
   "metadata": {
    "id": "aYVMGDA13cTz"
   },
   "outputs": [],
   "source": [
    "from langchain.chains import RetrievalQAWithSourcesChain\n",
    "\n",
    "qa_with_sources = RetrievalQAWithSourcesChain.from_chain_type(\n",
    "    llm=llm,\n",
    "    chain_type=\"stuff\",\n",
    "    retriever=vectorstore.as_retriever()\n",
    ")"
   ]
  },
  {
   "cell_type": "code",
   "execution_count": 22,
   "metadata": {
    "colab": {
     "base_uri": "https://localhost:8080/"
    },
    "id": "RXsVEh3S4ZJO",
    "outputId": "c8677998-ddc1-485b-d8a5-85bc9b7a3af7"
   },
   "outputs": [
    {
     "data": {
      "text/plain": [
       "{'question': 'who was Benito Mussolini?',\n",
       " 'answer': 'Benito Mussolini was an Italian politician and journalist who was the Prime Minister of Italy from 1922 until 1943. He was the leader of the National Fascist Party and invented the ideology of Fascism. He became dictator of Italy by the end of 1927 and was friends with German dictator Adolf Hitler. Mussolini attacked Greece and failed to conquer it. He was removed by the Great Council of Fascism in 1943 and was executed by a partisan on April 28, 1945. After the war, several Neo-Fascist movements have had success in Italy, the most important being the Movimento Sociale Italiano. His granddaughter Alessandra Mussolini has outspoken views similar to Fascism. \\n',\n",
       " 'sources': 'https://simple.wikipedia.org/wiki/Benito%20Mussolini, https://simple.wikipedia.org/wiki/Fascism'}"
      ]
     },
     "execution_count": 22,
     "metadata": {},
     "output_type": "execute_result"
    }
   ],
   "source": [
    "qa_with_sources(query)"
   ]
  },
  {
   "attachments": {},
   "cell_type": "markdown",
   "metadata": {
    "id": "nMRk_P3Q7l5J"
   },
   "source": [
    "Now we answer the question being asked, *and* return the source of this information being used by the LLM."
   ]
  },
  {
   "attachments": {},
   "cell_type": "markdown",
   "metadata": {
    "id": "ehJEn68qADoH"
   },
   "source": [
    "---"
   ]
  }
 ],
 "metadata": {
  "colab": {
   "provenance": []
  },
  "kernelspec": {
   "name": "python3",
   "language": "python",
   "display_name": "Python 3 (ipykernel)"
  },
  "language_info": {
   "codemirror_mode": {
    "name": "ipython",
    "version": 3
   },
   "file_extension": ".py",
   "mimetype": "text/x-python",
   "name": "python",
   "nbconvert_exporter": "python",
   "pygments_lexer": "ipython3",
   "version": "3.9.12"
  },
  "widgets": {
   "application/vnd.jupyter.widget-state+json": {
    "059918bb59744634aaa181dc4ec256a2": {
     "model_module": "@jupyter-widgets/base",
     "model_module_version": "1.2.0",
     "model_name": "LayoutModel",
     "state": {
      "_model_module": "@jupyter-widgets/base",
      "_model_module_version": "1.2.0",
      "_model_name": "LayoutModel",
      "_view_count": null,
      "_view_module": "@jupyter-widgets/base",
      "_view_module_version": "1.2.0",
      "_view_name": "LayoutView",
      "align_content": null,
      "align_items": null,
      "align_self": null,
      "border": null,
      "bottom": null,
      "display": null,
      "flex": null,
      "flex_flow": null,
      "grid_area": null,
      "grid_auto_columns": null,
      "grid_auto_flow": null,
      "grid_auto_rows": null,
      "grid_column": null,
      "grid_gap": null,
      "grid_row": null,
      "grid_template_areas": null,
      "grid_template_columns": null,
      "grid_template_rows": null,
      "height": null,
      "justify_content": null,
      "justify_items": null,
      "left": null,
      "margin": null,
      "max_height": null,
      "max_width": null,
      "min_height": null,
      "min_width": null,
      "object_fit": null,
      "object_position": null,
      "order": null,
      "overflow": null,
      "overflow_x": null,
      "overflow_y": null,
      "padding": null,
      "right": null,
      "top": null,
      "visibility": null,
      "width": null
     }
    },
    "28a553d3a3704b3aa8b061b71b1fe2ee": {
     "model_module": "@jupyter-widgets/controls",
     "model_module_version": "1.5.0",
     "model_name": "HBoxModel",
     "state": {
      "_dom_classes": [],
      "_model_module": "@jupyter-widgets/controls",
      "_model_module_version": "1.5.0",
      "_model_name": "HBoxModel",
      "_view_count": null,
      "_view_module": "@jupyter-widgets/controls",
      "_view_module_version": "1.5.0",
      "_view_name": "HBoxView",
      "box_style": "",
      "children": [
       "IPY_MODEL_ee030d62f3a54f5288cccf954caa7d85",
       "IPY_MODEL_55cdb4e0b33a48b298f760e7ff2af0f9",
       "IPY_MODEL_9de7f27011b346f8b7a13fa649164ee7"
      ],
      "layout": "IPY_MODEL_f362a565ff90457f904233d4fc625119"
     }
    },
    "3c6290e0ee42461eb47dfcc5d5cd0629": {
     "model_module": "@jupyter-widgets/controls",
     "model_module_version": "1.5.0",
     "model_name": "ProgressStyleModel",
     "state": {
      "_model_module": "@jupyter-widgets/controls",
      "_model_module_version": "1.5.0",
      "_model_name": "ProgressStyleModel",
      "_view_count": null,
      "_view_module": "@jupyter-widgets/base",
      "_view_module_version": "1.2.0",
      "_view_name": "StyleView",
      "bar_color": null,
      "description_width": ""
     }
    },
    "55cdb4e0b33a48b298f760e7ff2af0f9": {
     "model_module": "@jupyter-widgets/controls",
     "model_module_version": "1.5.0",
     "model_name": "FloatProgressModel",
     "state": {
      "_dom_classes": [],
      "_model_module": "@jupyter-widgets/controls",
      "_model_module_version": "1.5.0",
      "_model_name": "FloatProgressModel",
      "_view_count": null,
      "_view_module": "@jupyter-widgets/controls",
      "_view_module_version": "1.5.0",
      "_view_name": "ProgressView",
      "bar_style": "success",
      "description": "",
      "description_tooltip": null,
      "layout": "IPY_MODEL_83ac28af70074e998663f6f247278a83",
      "max": 10000,
      "min": 0,
      "orientation": "horizontal",
      "style": "IPY_MODEL_3c6290e0ee42461eb47dfcc5d5cd0629",
      "value": 10000
     }
    },
    "83ac28af70074e998663f6f247278a83": {
     "model_module": "@jupyter-widgets/base",
     "model_module_version": "1.2.0",
     "model_name": "LayoutModel",
     "state": {
      "_model_module": "@jupyter-widgets/base",
      "_model_module_version": "1.2.0",
      "_model_name": "LayoutModel",
      "_view_count": null,
      "_view_module": "@jupyter-widgets/base",
      "_view_module_version": "1.2.0",
      "_view_name": "LayoutView",
      "align_content": null,
      "align_items": null,
      "align_self": null,
      "border": null,
      "bottom": null,
      "display": null,
      "flex": null,
      "flex_flow": null,
      "grid_area": null,
      "grid_auto_columns": null,
      "grid_auto_flow": null,
      "grid_auto_rows": null,
      "grid_column": null,
      "grid_gap": null,
      "grid_row": null,
      "grid_template_areas": null,
      "grid_template_columns": null,
      "grid_template_rows": null,
      "height": null,
      "justify_content": null,
      "justify_items": null,
      "left": null,
      "margin": null,
      "max_height": null,
      "max_width": null,
      "min_height": null,
      "min_width": null,
      "object_fit": null,
      "object_position": null,
      "order": null,
      "overflow": null,
      "overflow_x": null,
      "overflow_y": null,
      "padding": null,
      "right": null,
      "top": null,
      "visibility": null,
      "width": null
     }
    },
    "88a2b48b3b4f415797bab96eaa925aa7": {
     "model_module": "@jupyter-widgets/base",
     "model_module_version": "1.2.0",
     "model_name": "LayoutModel",
     "state": {
      "_model_module": "@jupyter-widgets/base",
      "_model_module_version": "1.2.0",
      "_model_name": "LayoutModel",
      "_view_count": null,
      "_view_module": "@jupyter-widgets/base",
      "_view_module_version": "1.2.0",
      "_view_name": "LayoutView",
      "align_content": null,
      "align_items": null,
      "align_self": null,
      "border": null,
      "bottom": null,
      "display": null,
      "flex": null,
      "flex_flow": null,
      "grid_area": null,
      "grid_auto_columns": null,
      "grid_auto_flow": null,
      "grid_auto_rows": null,
      "grid_column": null,
      "grid_gap": null,
      "grid_row": null,
      "grid_template_areas": null,
      "grid_template_columns": null,
      "grid_template_rows": null,
      "height": null,
      "justify_content": null,
      "justify_items": null,
      "left": null,
      "margin": null,
      "max_height": null,
      "max_width": null,
      "min_height": null,
      "min_width": null,
      "object_fit": null,
      "object_position": null,
      "order": null,
      "overflow": null,
      "overflow_x": null,
      "overflow_y": null,
      "padding": null,
      "right": null,
      "top": null,
      "visibility": null,
      "width": null
     }
    },
    "9de7f27011b346f8b7a13fa649164ee7": {
     "model_module": "@jupyter-widgets/controls",
     "model_module_version": "1.5.0",
     "model_name": "HTMLModel",
     "state": {
      "_dom_classes": [],
      "_model_module": "@jupyter-widgets/controls",
      "_model_module_version": "1.5.0",
      "_model_name": "HTMLModel",
      "_view_count": null,
      "_view_module": "@jupyter-widgets/controls",
      "_view_module_version": "1.5.0",
      "_view_name": "HTMLView",
      "description": "",
      "description_tooltip": null,
      "layout": "IPY_MODEL_88a2b48b3b4f415797bab96eaa925aa7",
      "placeholder": "​",
      "style": "IPY_MODEL_c241146f1475404282c35bc09e7cc945",
      "value": " 10000/10000 [03:52&lt;00:00, 79.57it/s]"
     }
    },
    "c241146f1475404282c35bc09e7cc945": {
     "model_module": "@jupyter-widgets/controls",
     "model_module_version": "1.5.0",
     "model_name": "DescriptionStyleModel",
     "state": {
      "_model_module": "@jupyter-widgets/controls",
      "_model_module_version": "1.5.0",
      "_model_name": "DescriptionStyleModel",
      "_view_count": null,
      "_view_module": "@jupyter-widgets/base",
      "_view_module_version": "1.2.0",
      "_view_name": "StyleView",
      "description_width": ""
     }
    },
    "ee030d62f3a54f5288cccf954caa7d85": {
     "model_module": "@jupyter-widgets/controls",
     "model_module_version": "1.5.0",
     "model_name": "HTMLModel",
     "state": {
      "_dom_classes": [],
      "_model_module": "@jupyter-widgets/controls",
      "_model_module_version": "1.5.0",
      "_model_name": "HTMLModel",
      "_view_count": null,
      "_view_module": "@jupyter-widgets/controls",
      "_view_module_version": "1.5.0",
      "_view_name": "HTMLView",
      "description": "",
      "description_tooltip": null,
      "layout": "IPY_MODEL_059918bb59744634aaa181dc4ec256a2",
      "placeholder": "​",
      "style": "IPY_MODEL_f762e8d37ab6441d87b2a66bfddd5239",
      "value": "100%"
     }
    },
    "f362a565ff90457f904233d4fc625119": {
     "model_module": "@jupyter-widgets/base",
     "model_module_version": "1.2.0",
     "model_name": "LayoutModel",
     "state": {
      "_model_module": "@jupyter-widgets/base",
      "_model_module_version": "1.2.0",
      "_model_name": "LayoutModel",
      "_view_count": null,
      "_view_module": "@jupyter-widgets/base",
      "_view_module_version": "1.2.0",
      "_view_name": "LayoutView",
      "align_content": null,
      "align_items": null,
      "align_self": null,
      "border": null,
      "bottom": null,
      "display": null,
      "flex": null,
      "flex_flow": null,
      "grid_area": null,
      "grid_auto_columns": null,
      "grid_auto_flow": null,
      "grid_auto_rows": null,
      "grid_column": null,
      "grid_gap": null,
      "grid_row": null,
      "grid_template_areas": null,
      "grid_template_columns": null,
      "grid_template_rows": null,
      "height": null,
      "justify_content": null,
      "justify_items": null,
      "left": null,
      "margin": null,
      "max_height": null,
      "max_width": null,
      "min_height": null,
      "min_width": null,
      "object_fit": null,
      "object_position": null,
      "order": null,
      "overflow": null,
      "overflow_x": null,
      "overflow_y": null,
      "padding": null,
      "right": null,
      "top": null,
      "visibility": null,
      "width": null
     }
    },
    "f762e8d37ab6441d87b2a66bfddd5239": {
     "model_module": "@jupyter-widgets/controls",
     "model_module_version": "1.5.0",
     "model_name": "DescriptionStyleModel",
     "state": {
      "_model_module": "@jupyter-widgets/controls",
      "_model_module_version": "1.5.0",
      "_model_name": "DescriptionStyleModel",
      "_view_count": null,
      "_view_module": "@jupyter-widgets/base",
      "_view_module_version": "1.2.0",
      "_view_name": "StyleView",
      "description_width": ""
     }
    }
   }
  }
 },
 "nbformat": 4,
 "nbformat_minor": 0
}
